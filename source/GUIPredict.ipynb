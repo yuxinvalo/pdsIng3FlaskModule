{
 "cells": [
  {
   "cell_type": "code",
   "execution_count": 1,
   "metadata": {
    "collapsed": true
   },
   "outputs": [],
   "source": [
    "# Simple GUI of model pds\n",
    "\n",
    "import pandas as pd\n",
    "\n",
    "def loadData():\n",
    "    fait = pd.read_csv(\"fait.csv\")\n",
    "    fait.drop(['Unnamed: 0'], axis=1, inplace=True)\n",
    "    faitPred = pd.read_csv(\"FaitAPred.csv\")\n",
    "    faitPred.drop(['Unnamed: 0'], axis=1, inplace=True)\n",
    "    return fait, faitPred\n",
    "\n",
    "# DONNO HOW TO TRANSFER IT\n",
    "from sklearn import preprocessing\n",
    "\n",
    "def cleanData(fait):\n",
    "    print(\"--clean data--\")\n",
    "    lb = preprocessing.LabelBinarizer()\n",
    "    def rep_precip(x):\n",
    "        if x < 3.0:\n",
    "            return 'precip_faible'\n",
    "        elif x >= 3. and x < 5.:\n",
    "            return 'precip_moyen'\n",
    "        else :\n",
    "            return 'precip_fort'\n",
    "\n",
    "# definition visibility\n",
    "# faible = < 5km\n",
    "# moyen = >= 5km and < 8km\n",
    "# bonne = >= 8km\n",
    "    def rep_visib(x):\n",
    "        if x < 5.:\n",
    "            return 'visib_faible'\n",
    "        elif x >= 5. and x < 8.:\n",
    "            return 'visib_moyen'\n",
    "        else :\n",
    "            return 'visib_fort'\n",
    "# definition month\n",
    "# haute = 7, 8\n",
    "# basse = other months\n",
    "    def rep_month(x):\n",
    "        if x is 7 or x is 8:\n",
    "            return 'month_haute'\n",
    "        else:\n",
    "            return 'month_basse'\n",
    "# definition hour\n",
    "# pointe = in 7, 8, 12, 13, 19, 20\n",
    "# creuse in other hours\n",
    "    def rep_hour(x):\n",
    "        if x in [7, 8, 12, 13, 19, 20]:\n",
    "            return 'hour_pointe'\n",
    "        else:\n",
    "            return 'hour_creuse'\n",
    "    fait['precip'] = fait['precipitation'].apply(lambda x: rep_precip(x))\n",
    "    fait['visib'] = fait['visibility'].apply(lambda x: rep_visib(x))\n",
    "    fait['month'] = fait['month'].apply(lambda x: rep_month(x))\n",
    "    fait['hour'] = fait['hour'].apply(lambda x: rep_hour(x))\n",
    "    fait.drop(['visibility', 'precipitation'], axis=1, inplace=True)\n",
    "    dummies_col = ['month', 'hour', 'precip', 'visib']\n",
    "    for each in dummies_col:\n",
    "        dummy = pd.get_dummies(fait[each])\n",
    "        fait = pd.concat([fait, dummy], axis=1)\n",
    "    fait.drop(['month','hour', 'precip', 'visib'], axis=1, inplace=True)\n",
    "    print(\"--clean data finish--\")\n",
    "    return fait"
   ]
  },
  {
   "cell_type": "code",
   "execution_count": 2,
   "metadata": {
    "scrolled": false
   },
   "outputs": [
    {
     "name": "stdout",
     "output_type": "stream",
     "text": [
      "--clean data--\n",
      "--clean data finish--\n",
      "--split data--\n",
      "--split finish--\n",
      "--get predictive data--\n",
      "--adjust column: i : 1--\n",
      "--missing column nb: 9.--\n"
     ]
    },
    {
     "name": "stderr",
     "output_type": "stream",
     "text": [
      "/home/teasyu/anaconda3/lib/python3.6/site-packages/ipykernel_launcher.py:39: SettingWithCopyWarning: \n",
      "A value is trying to be set on a copy of a slice from a DataFrame\n",
      "\n",
      "See the caveats in the documentation: http://pandas.pydata.org/pandas-docs/stable/indexing.html#indexing-view-versus-copy\n",
      "/home/teasyu/anaconda3/lib/python3.6/site-packages/ipykernel_launcher.py:20: SettingWithCopyWarning: \n",
      "A value is trying to be set on a copy of a slice from a DataFrame.\n",
      "Try using .loc[row_indexer,col_indexer] = value instead\n",
      "\n",
      "See the caveats in the documentation: http://pandas.pydata.org/pandas-docs/stable/indexing.html#indexing-view-versus-copy\n"
     ]
    },
    {
     "name": "stdout",
     "output_type": "stream",
     "text": [
      "Index(['--adjust columns of faitPred:month_basse',\n",
      "       '--adjust columns of faitPred:month_haute',\n",
      "       '--adjust columns of faitPred:hour_creuse',\n",
      "       '--adjust columns of faitPred:hour_pointe',\n",
      "       '--adjust columns of faitPred:precip_faible',\n",
      "       '--adjust columns of faitPred:precip_fort',\n",
      "       '--adjust columns of faitPred:precip_moyen',\n",
      "       '--adjust columns of faitPred:visib_fort',\n",
      "       '--adjust columns of faitPred:visib_moyen',\n",
      "       '--adjust columns of faitPred:visib_faible'],\n",
      "      dtype='object')\n",
      "--get predictive data finish--\n"
     ]
    },
    {
     "name": "stderr",
     "output_type": "stream",
     "text": [
      "/home/teasyu/anaconda3/lib/python3.6/site-packages/ipykernel_launcher.py:57: SettingWithCopyWarning: \n",
      "A value is trying to be set on a copy of a slice from a DataFrame.\n",
      "Try using .loc[row_indexer,col_indexer] = value instead\n",
      "\n",
      "See the caveats in the documentation: http://pandas.pydata.org/pandas-docs/stable/indexing.html#indexing-view-versus-copy\n",
      "/home/teasyu/anaconda3/lib/python3.6/site-packages/ipykernel_launcher.py:58: SettingWithCopyWarning: \n",
      "A value is trying to be set on a copy of a slice from a DataFrame.\n",
      "Try using .loc[row_indexer,col_indexer] = value instead\n",
      "\n",
      "See the caveats in the documentation: http://pandas.pydata.org/pandas-docs/stable/indexing.html#indexing-view-versus-copy\n"
     ]
    }
   ],
   "source": [
    "from sklearn.model_selection import train_test_split\n",
    "from sklearn.linear_model import LogisticRegression\n",
    "from sklearn import metrics\n",
    "from datetime import datetime\n",
    "\n",
    "def adjustCol(faitPred):\n",
    "    cols = ['month_basse', 'month_haute', 'hour_creuse', 'hour_pointe',\\\n",
    "       'precip_faible', 'precip_fort', 'precip_moyen', 'visib_fort',\\\n",
    "       'visib_moyen', 'visib_faible']\n",
    "    if(len(faitPred.columns) != len(cols)):\n",
    "        i = len(cols) - len(faitPred.columns)\n",
    "        print(\"--adjust column: i : \" + str(i) + \"--\")\n",
    "        for index,ele in enumerate(faitPred.columns):\n",
    "            if ele != cols[index]:\n",
    "                newCol = 0\n",
    "                faitPred.insert(loc=0, column=cols[index], value=newCol)\n",
    "                i = i + 1\n",
    "        if i != 0:\n",
    "            for x in range(0, i):\n",
    "                print(\"--missing column nb: \" + str(len(faitPred.columns)+x)+ \".--\")\n",
    "                newCol = 0\n",
    "                faitPred[cols[len(faitPred.columns)+x]] = 0\n",
    "    print(\"--adjust columns of faitPred:\" + faitPred.columns)\n",
    "    return faitPred\n",
    "\n",
    "def splitTrainData(fait):\n",
    "    print(\"--split data--\")\n",
    "    faitX = fait.drop('isLate', axis=1)\n",
    "    x_train, x_test, y_train, y_test = train_test_split\\\n",
    "    (faitX, fait.isLate, test_size=0.33, random_state=0)\n",
    "    print(\"--split finish--\")\n",
    "    return x_train, x_test, y_train, y_test\n",
    "\n",
    "def getPredData(faitPred, dateStart, dateEnd):\n",
    "    print(\"--get predictive data--\")\n",
    "    dateStart = datetime.strptime(dateStart, \"%Y-%m-%d\")\n",
    "    dateEnd = datetime.strptime(dateEnd, \"%Y-%m-%d\")\n",
    "    faitPred['DATE'] = pd.to_datetime(faitPred['DATE'], format=\"%Y-%m-%d\")\n",
    "    mask = (faitPred['DATE'] >= dateStart) & (faitPred['DATE'] <= dateEnd)\n",
    "    res = faitPred.loc[mask]\n",
    "    resDate =  pd.concat([res['DATE']], axis=1, keys=[\"DATE\"])\n",
    "    res.drop(['DATE'], axis=1, inplace=True)\n",
    "    res = adjustCol(res)\n",
    "    print(\"--get predictive data finish--\")\n",
    "    return res, resDate\n",
    "    \n",
    "def lrByDate(dateArr):\n",
    "    fait, faitPred = loadData()\n",
    "    faitPred = cleanData(faitPred)\n",
    "    dateStart = dateArr[0]\n",
    "    dateEnd = dateArr[len(dateArr) - 1]\n",
    "    \n",
    "    faitX = fait.drop('isLate', axis=1)\n",
    "    x_train, x_test, y_train, y_test = splitTrainData(fait)\n",
    "    lr = LogisticRegression()\n",
    "    lr.fit(x_train, y_train)\n",
    "#     resPred = lr.predict(x_test)\n",
    "    resPred, resDate = getPredData(faitPred, dateStart, dateEnd)\n",
    "    resY = lr.predict(resPred)\n",
    "    resPred['isLate'] = resY\n",
    "    resPred['DATE'] = resDate['DATE']\n",
    "    return resPred\n",
    "    \n",
    "test = lrByDate(['2018-09-30', '2018-10-02'])    "
   ]
  },
  {
   "cell_type": "code",
   "execution_count": 6,
   "metadata": {
    "scrolled": true
   },
   "outputs": [],
   "source": [
    "import random\n",
    "def insertRandom(df):\n",
    "    print(\"--inset value--\")\n",
    "    nb = random.randint(0, int(df.shape[0]/4))\n",
    "    df = df.reset_index(drop=False)\n",
    "    indexs = []\n",
    "    for i in range(0, nb):\n",
    "        index = random.randint(0, df.shape[0])\n",
    "        indexs.append(index)\n",
    "    for i in indexs:\n",
    "        df.set_value(i,'isLate', 1)\n",
    "    df = df.set_index('DATE', inplace=True)\n",
    "    return df"
   ]
  },
  {
   "cell_type": "code",
   "execution_count": 7,
   "metadata": {},
   "outputs": [
    {
     "name": "stdout",
     "output_type": "stream",
     "text": [
      "--inset value--\n"
     ]
    }
   ],
   "source": [
    "df = insertRandom(test)\n",
    "df"
   ]
  },
  {
   "cell_type": "code",
   "execution_count": 16,
   "metadata": {},
   "outputs": [
    {
     "name": "stdout",
     "output_type": "stream",
     "text": [
      "['2018-09-18']\n",
      "['2018-09-18', '2018-09-22']\n",
      "['2018-09-18', '2018-09-22', '93']\n",
      "True\n"
     ]
    }
   ],
   "source": [
    "f = open(\"test.txt\",\"r\")\n",
    "startDate = '2018-09-18'\n",
    "endDate = '2018-09-20'\n",
    "fline = f.readlines()\n",
    "lines = []\n",
    "for x in fline:\n",
    "    lines.append(x.strip())\n",
    "    print(lines)\n",
    "if (str(lines[0].strip()) == (startDate)):\n",
    "    print(True)\n"
   ]
  },
  {
   "cell_type": "code",
   "execution_count": null,
   "metadata": {
    "collapsed": true
   },
   "outputs": [],
   "source": []
  }
 ],
 "metadata": {
  "kernelspec": {
   "display_name": "Python 3",
   "language": "python",
   "name": "python3"
  },
  "language_info": {
   "codemirror_mode": {
    "name": "ipython",
    "version": 3
   },
   "file_extension": ".py",
   "mimetype": "text/x-python",
   "name": "python",
   "nbconvert_exporter": "python",
   "pygments_lexer": "ipython3",
   "version": "3.6.3"
  }
 },
 "nbformat": 4,
 "nbformat_minor": 2
}
