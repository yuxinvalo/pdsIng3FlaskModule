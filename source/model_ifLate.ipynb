{
 "cells": [
  {
   "cell_type": "code",
   "execution_count": 1,
   "metadata": {
    "collapsed": true
   },
   "outputs": [],
   "source": [
    "import pandas as pd\n",
    "from datetime import datetime\n",
    "from datetime import timedelta\n",
    "import matplotlib.pyplot as plt\n",
    "\n",
    "# construct \"table de fait\"\n",
    "histories = pd.read_csv(\"yearHistoryTemplate.csv\")\n",
    "weather = pd.read_csv(\"weather2017.csv\")\n",
    "histories['DATE'] = pd.to_datetime(histories['dep_time'], format = '%Y-%m-%d').dt.date\n",
    "weather['DATE'] = pd.to_datetime(weather['DATE'], format = '%Y-%m-%d').dt.date\n",
    "histories['precipitation'] = histories['DATE'].map(weather.set_index('DATE')['PRECIP_TOTAL_DAY_MM'])\n",
    "histories['visibility'] = histories['DATE'].map(weather.set_index('DATE')['VISIBILITY_AVG_KM'])\n",
    "histories['month'] = pd.to_datetime(histories['dep_time'], format = '%Y-%m-%d').dt.month\n",
    "histories['hour'] = pd.to_datetime(histories['dep_time'], format = '%Y-%m-%d').dt.hour\n",
    "histories.head(10)"
   ]
  },
  {
   "cell_type": "code",
   "execution_count": 2,
   "metadata": {},
   "outputs": [
    {
     "data": {
      "text/html": [
       "<div>\n",
       "<style>\n",
       "    .dataframe thead tr:only-child th {\n",
       "        text-align: right;\n",
       "    }\n",
       "\n",
       "    .dataframe thead th {\n",
       "        text-align: left;\n",
       "    }\n",
       "\n",
       "    .dataframe tbody tr th {\n",
       "        vertical-align: top;\n",
       "    }\n",
       "</style>\n",
       "<table border=\"1\" class=\"dataframe\">\n",
       "  <thead>\n",
       "    <tr style=\"text-align: right;\">\n",
       "      <th></th>\n",
       "      <th>late_time</th>\n",
       "      <th>precipitation</th>\n",
       "      <th>visibility</th>\n",
       "      <th>month</th>\n",
       "      <th>hour</th>\n",
       "    </tr>\n",
       "  </thead>\n",
       "  <tbody>\n",
       "    <tr>\n",
       "      <th>0</th>\n",
       "      <td>0</td>\n",
       "      <td>0.0</td>\n",
       "      <td>10.0</td>\n",
       "      <td>1</td>\n",
       "      <td>0</td>\n",
       "    </tr>\n",
       "    <tr>\n",
       "      <th>1</th>\n",
       "      <td>0</td>\n",
       "      <td>0.0</td>\n",
       "      <td>10.0</td>\n",
       "      <td>1</td>\n",
       "      <td>0</td>\n",
       "    </tr>\n",
       "    <tr>\n",
       "      <th>2</th>\n",
       "      <td>0</td>\n",
       "      <td>0.0</td>\n",
       "      <td>10.0</td>\n",
       "      <td>1</td>\n",
       "      <td>2</td>\n",
       "    </tr>\n",
       "    <tr>\n",
       "      <th>3</th>\n",
       "      <td>0</td>\n",
       "      <td>0.0</td>\n",
       "      <td>10.0</td>\n",
       "      <td>1</td>\n",
       "      <td>2</td>\n",
       "    </tr>\n",
       "    <tr>\n",
       "      <th>4</th>\n",
       "      <td>0</td>\n",
       "      <td>0.0</td>\n",
       "      <td>10.0</td>\n",
       "      <td>1</td>\n",
       "      <td>3</td>\n",
       "    </tr>\n",
       "    <tr>\n",
       "      <th>5</th>\n",
       "      <td>0</td>\n",
       "      <td>0.0</td>\n",
       "      <td>10.0</td>\n",
       "      <td>1</td>\n",
       "      <td>4</td>\n",
       "    </tr>\n",
       "    <tr>\n",
       "      <th>6</th>\n",
       "      <td>0</td>\n",
       "      <td>0.0</td>\n",
       "      <td>10.0</td>\n",
       "      <td>1</td>\n",
       "      <td>5</td>\n",
       "    </tr>\n",
       "    <tr>\n",
       "      <th>7</th>\n",
       "      <td>0</td>\n",
       "      <td>0.0</td>\n",
       "      <td>10.0</td>\n",
       "      <td>1</td>\n",
       "      <td>5</td>\n",
       "    </tr>\n",
       "    <tr>\n",
       "      <th>8</th>\n",
       "      <td>0</td>\n",
       "      <td>0.0</td>\n",
       "      <td>10.0</td>\n",
       "      <td>1</td>\n",
       "      <td>5</td>\n",
       "    </tr>\n",
       "    <tr>\n",
       "      <th>9</th>\n",
       "      <td>0</td>\n",
       "      <td>0.0</td>\n",
       "      <td>10.0</td>\n",
       "      <td>1</td>\n",
       "      <td>6</td>\n",
       "    </tr>\n",
       "  </tbody>\n",
       "</table>\n",
       "</div>"
      ],
      "text/plain": [
       "   late_time  precipitation  visibility  month  hour\n",
       "0          0            0.0        10.0      1     0\n",
       "1          0            0.0        10.0      1     0\n",
       "2          0            0.0        10.0      1     2\n",
       "3          0            0.0        10.0      1     2\n",
       "4          0            0.0        10.0      1     3\n",
       "5          0            0.0        10.0      1     4\n",
       "6          0            0.0        10.0      1     5\n",
       "7          0            0.0        10.0      1     5\n",
       "8          0            0.0        10.0      1     5\n",
       "9          0            0.0        10.0      1     6"
      ]
     },
     "execution_count": 2,
     "metadata": {},
     "output_type": "execute_result"
    }
   ],
   "source": [
    "fait = histories.drop(['id','client_id', 'departure_id', 'arrival_id', 'vehicle_id',\\\n",
    "                       'dep_time', 'arr_time', 'base_price', 'sup_price', 'DATE'], axis=1)\n",
    "fait.head(10)"
   ]
  },
  {
   "cell_type": "code",
   "execution_count": 3,
   "metadata": {
    "collapsed": true
   },
   "outputs": [],
   "source": [
    "# DONNO HOW TO TRANSFER IT\n",
    "from sklearn import preprocessing\n",
    "lb = preprocessing.LabelBinarizer()"
   ]
  },
  {
   "cell_type": "code",
   "execution_count": 4,
   "metadata": {},
   "outputs": [
    {
     "data": {
      "text/html": [
       "<div>\n",
       "<style>\n",
       "    .dataframe thead tr:only-child th {\n",
       "        text-align: right;\n",
       "    }\n",
       "\n",
       "    .dataframe thead th {\n",
       "        text-align: left;\n",
       "    }\n",
       "\n",
       "    .dataframe tbody tr th {\n",
       "        vertical-align: top;\n",
       "    }\n",
       "</style>\n",
       "<table border=\"1\" class=\"dataframe\">\n",
       "  <thead>\n",
       "    <tr style=\"text-align: right;\">\n",
       "      <th></th>\n",
       "      <th>month</th>\n",
       "      <th>hour</th>\n",
       "      <th>precip</th>\n",
       "      <th>visib</th>\n",
       "      <th>isLate</th>\n",
       "    </tr>\n",
       "  </thead>\n",
       "  <tbody>\n",
       "    <tr>\n",
       "      <th>0</th>\n",
       "      <td>month_basse</td>\n",
       "      <td>hour_creuse</td>\n",
       "      <td>precip_faible</td>\n",
       "      <td>visib_fort</td>\n",
       "      <td>0</td>\n",
       "    </tr>\n",
       "    <tr>\n",
       "      <th>1</th>\n",
       "      <td>month_basse</td>\n",
       "      <td>hour_creuse</td>\n",
       "      <td>precip_faible</td>\n",
       "      <td>visib_fort</td>\n",
       "      <td>0</td>\n",
       "    </tr>\n",
       "    <tr>\n",
       "      <th>2</th>\n",
       "      <td>month_basse</td>\n",
       "      <td>hour_creuse</td>\n",
       "      <td>precip_faible</td>\n",
       "      <td>visib_fort</td>\n",
       "      <td>0</td>\n",
       "    </tr>\n",
       "    <tr>\n",
       "      <th>3</th>\n",
       "      <td>month_basse</td>\n",
       "      <td>hour_creuse</td>\n",
       "      <td>precip_faible</td>\n",
       "      <td>visib_fort</td>\n",
       "      <td>0</td>\n",
       "    </tr>\n",
       "    <tr>\n",
       "      <th>4</th>\n",
       "      <td>month_basse</td>\n",
       "      <td>hour_creuse</td>\n",
       "      <td>precip_faible</td>\n",
       "      <td>visib_fort</td>\n",
       "      <td>0</td>\n",
       "    </tr>\n",
       "    <tr>\n",
       "      <th>5</th>\n",
       "      <td>month_basse</td>\n",
       "      <td>hour_creuse</td>\n",
       "      <td>precip_faible</td>\n",
       "      <td>visib_fort</td>\n",
       "      <td>0</td>\n",
       "    </tr>\n",
       "    <tr>\n",
       "      <th>6</th>\n",
       "      <td>month_basse</td>\n",
       "      <td>hour_creuse</td>\n",
       "      <td>precip_faible</td>\n",
       "      <td>visib_fort</td>\n",
       "      <td>0</td>\n",
       "    </tr>\n",
       "    <tr>\n",
       "      <th>7</th>\n",
       "      <td>month_basse</td>\n",
       "      <td>hour_creuse</td>\n",
       "      <td>precip_faible</td>\n",
       "      <td>visib_fort</td>\n",
       "      <td>0</td>\n",
       "    </tr>\n",
       "    <tr>\n",
       "      <th>8</th>\n",
       "      <td>month_basse</td>\n",
       "      <td>hour_creuse</td>\n",
       "      <td>precip_faible</td>\n",
       "      <td>visib_fort</td>\n",
       "      <td>0</td>\n",
       "    </tr>\n",
       "    <tr>\n",
       "      <th>9</th>\n",
       "      <td>month_basse</td>\n",
       "      <td>hour_creuse</td>\n",
       "      <td>precip_faible</td>\n",
       "      <td>visib_fort</td>\n",
       "      <td>0</td>\n",
       "    </tr>\n",
       "  </tbody>\n",
       "</table>\n",
       "</div>"
      ],
      "text/plain": [
       "         month         hour         precip       visib  isLate\n",
       "0  month_basse  hour_creuse  precip_faible  visib_fort       0\n",
       "1  month_basse  hour_creuse  precip_faible  visib_fort       0\n",
       "2  month_basse  hour_creuse  precip_faible  visib_fort       0\n",
       "3  month_basse  hour_creuse  precip_faible  visib_fort       0\n",
       "4  month_basse  hour_creuse  precip_faible  visib_fort       0\n",
       "5  month_basse  hour_creuse  precip_faible  visib_fort       0\n",
       "6  month_basse  hour_creuse  precip_faible  visib_fort       0\n",
       "7  month_basse  hour_creuse  precip_faible  visib_fort       0\n",
       "8  month_basse  hour_creuse  precip_faible  visib_fort       0\n",
       "9  month_basse  hour_creuse  precip_faible  visib_fort       0"
      ]
     },
     "execution_count": 4,
     "metadata": {},
     "output_type": "execute_result"
    }
   ],
   "source": [
    "# difinition Precipitation\n",
    "# faible = <3.0mm\n",
    "# moyen =  >= 3.0mm and < 5mm\n",
    "# fort = >= 5mm\n",
    "def rep_precip(x):\n",
    "    if x < 3.0:\n",
    "        return 'precip_faible'\n",
    "    elif x >= 3. and x < 5.:\n",
    "        return 'precip_moyen'\n",
    "    else :\n",
    "        return 'precip_fort'\n",
    "\n",
    "# definition visibility\n",
    "# faible = < 5km\n",
    "# moyen = >= 5km and < 8km\n",
    "# bonne = >= 8km\n",
    "def rep_visib(x):\n",
    "    if x < 5.:\n",
    "        return 'visib_faible'\n",
    "    elif x >= 5. and x < 8.:\n",
    "        return 'visib_moyen'\n",
    "    else :\n",
    "        return 'visib_fort'\n",
    "\n",
    "def if_late(x):\n",
    "    if x != 0:\n",
    "        return 1\n",
    "    else:\n",
    "        return 0\n",
    "# definition month\n",
    "# haute = 7, 8\n",
    "# basse = other months\n",
    "def rep_month(x):\n",
    "    if x is 7 or x is 8:\n",
    "        return 'month_haute'\n",
    "    else:\n",
    "        return 'month_basse'\n",
    "# definition hour\n",
    "# pointe = in 7, 8, 12, 13, 19, 20\n",
    "# creuse in other hours\n",
    "def rep_hour(x):\n",
    "    if x in [7, 8, 12, 13, 19, 20]:\n",
    "        return 'hour_pointe'\n",
    "    else:\n",
    "        return 'hour_creuse'\n",
    "fait['precip'] = fait['precipitation'].apply(lambda x: rep_precip(x))\n",
    "fait['visib'] = fait['visibility'].apply(lambda x: rep_visib(x))\n",
    "fait['isLate'] = fait['late_time'].apply(lambda x: if_late(x))\n",
    "fait['month'] = fait['month'].apply(lambda x: rep_month(x))\n",
    "fait['hour'] = fait['hour'].apply(lambda x: rep_hour(x))\n",
    "fait.drop(['late_time','visibility', 'precipitation'], axis=1, inplace=True)\n",
    "\n",
    "fait.head(10)"
   ]
  },
  {
   "cell_type": "code",
   "execution_count": 5,
   "metadata": {},
   "outputs": [
    {
     "data": {
      "text/html": [
       "<div>\n",
       "<style>\n",
       "    .dataframe thead tr:only-child th {\n",
       "        text-align: right;\n",
       "    }\n",
       "\n",
       "    .dataframe thead th {\n",
       "        text-align: left;\n",
       "    }\n",
       "\n",
       "    .dataframe tbody tr th {\n",
       "        vertical-align: top;\n",
       "    }\n",
       "</style>\n",
       "<table border=\"1\" class=\"dataframe\">\n",
       "  <thead>\n",
       "    <tr style=\"text-align: right;\">\n",
       "      <th></th>\n",
       "      <th>isLate</th>\n",
       "      <th>month_basse</th>\n",
       "      <th>month_haute</th>\n",
       "      <th>hour_creuse</th>\n",
       "      <th>hour_pointe</th>\n",
       "      <th>precip_faible</th>\n",
       "      <th>precip_fort</th>\n",
       "      <th>precip_moyen</th>\n",
       "      <th>visib_faible</th>\n",
       "      <th>visib_fort</th>\n",
       "      <th>visib_moyen</th>\n",
       "    </tr>\n",
       "  </thead>\n",
       "  <tbody>\n",
       "    <tr>\n",
       "      <th>0</th>\n",
       "      <td>0</td>\n",
       "      <td>1</td>\n",
       "      <td>0</td>\n",
       "      <td>1</td>\n",
       "      <td>0</td>\n",
       "      <td>1</td>\n",
       "      <td>0</td>\n",
       "      <td>0</td>\n",
       "      <td>0</td>\n",
       "      <td>1</td>\n",
       "      <td>0</td>\n",
       "    </tr>\n",
       "    <tr>\n",
       "      <th>1</th>\n",
       "      <td>0</td>\n",
       "      <td>1</td>\n",
       "      <td>0</td>\n",
       "      <td>1</td>\n",
       "      <td>0</td>\n",
       "      <td>1</td>\n",
       "      <td>0</td>\n",
       "      <td>0</td>\n",
       "      <td>0</td>\n",
       "      <td>1</td>\n",
       "      <td>0</td>\n",
       "    </tr>\n",
       "    <tr>\n",
       "      <th>2</th>\n",
       "      <td>0</td>\n",
       "      <td>1</td>\n",
       "      <td>0</td>\n",
       "      <td>1</td>\n",
       "      <td>0</td>\n",
       "      <td>1</td>\n",
       "      <td>0</td>\n",
       "      <td>0</td>\n",
       "      <td>0</td>\n",
       "      <td>1</td>\n",
       "      <td>0</td>\n",
       "    </tr>\n",
       "    <tr>\n",
       "      <th>3</th>\n",
       "      <td>0</td>\n",
       "      <td>1</td>\n",
       "      <td>0</td>\n",
       "      <td>1</td>\n",
       "      <td>0</td>\n",
       "      <td>1</td>\n",
       "      <td>0</td>\n",
       "      <td>0</td>\n",
       "      <td>0</td>\n",
       "      <td>1</td>\n",
       "      <td>0</td>\n",
       "    </tr>\n",
       "    <tr>\n",
       "      <th>4</th>\n",
       "      <td>0</td>\n",
       "      <td>1</td>\n",
       "      <td>0</td>\n",
       "      <td>1</td>\n",
       "      <td>0</td>\n",
       "      <td>1</td>\n",
       "      <td>0</td>\n",
       "      <td>0</td>\n",
       "      <td>0</td>\n",
       "      <td>1</td>\n",
       "      <td>0</td>\n",
       "    </tr>\n",
       "    <tr>\n",
       "      <th>5</th>\n",
       "      <td>0</td>\n",
       "      <td>1</td>\n",
       "      <td>0</td>\n",
       "      <td>1</td>\n",
       "      <td>0</td>\n",
       "      <td>1</td>\n",
       "      <td>0</td>\n",
       "      <td>0</td>\n",
       "      <td>0</td>\n",
       "      <td>1</td>\n",
       "      <td>0</td>\n",
       "    </tr>\n",
       "    <tr>\n",
       "      <th>6</th>\n",
       "      <td>0</td>\n",
       "      <td>1</td>\n",
       "      <td>0</td>\n",
       "      <td>1</td>\n",
       "      <td>0</td>\n",
       "      <td>1</td>\n",
       "      <td>0</td>\n",
       "      <td>0</td>\n",
       "      <td>0</td>\n",
       "      <td>1</td>\n",
       "      <td>0</td>\n",
       "    </tr>\n",
       "    <tr>\n",
       "      <th>7</th>\n",
       "      <td>0</td>\n",
       "      <td>1</td>\n",
       "      <td>0</td>\n",
       "      <td>1</td>\n",
       "      <td>0</td>\n",
       "      <td>1</td>\n",
       "      <td>0</td>\n",
       "      <td>0</td>\n",
       "      <td>0</td>\n",
       "      <td>1</td>\n",
       "      <td>0</td>\n",
       "    </tr>\n",
       "    <tr>\n",
       "      <th>8</th>\n",
       "      <td>0</td>\n",
       "      <td>1</td>\n",
       "      <td>0</td>\n",
       "      <td>1</td>\n",
       "      <td>0</td>\n",
       "      <td>1</td>\n",
       "      <td>0</td>\n",
       "      <td>0</td>\n",
       "      <td>0</td>\n",
       "      <td>1</td>\n",
       "      <td>0</td>\n",
       "    </tr>\n",
       "    <tr>\n",
       "      <th>9</th>\n",
       "      <td>0</td>\n",
       "      <td>1</td>\n",
       "      <td>0</td>\n",
       "      <td>1</td>\n",
       "      <td>0</td>\n",
       "      <td>1</td>\n",
       "      <td>0</td>\n",
       "      <td>0</td>\n",
       "      <td>0</td>\n",
       "      <td>1</td>\n",
       "      <td>0</td>\n",
       "    </tr>\n",
       "  </tbody>\n",
       "</table>\n",
       "</div>"
      ],
      "text/plain": [
       "   isLate  month_basse  month_haute  hour_creuse  hour_pointe  precip_faible  \\\n",
       "0       0            1            0            1            0              1   \n",
       "1       0            1            0            1            0              1   \n",
       "2       0            1            0            1            0              1   \n",
       "3       0            1            0            1            0              1   \n",
       "4       0            1            0            1            0              1   \n",
       "5       0            1            0            1            0              1   \n",
       "6       0            1            0            1            0              1   \n",
       "7       0            1            0            1            0              1   \n",
       "8       0            1            0            1            0              1   \n",
       "9       0            1            0            1            0              1   \n",
       "\n",
       "   precip_fort  precip_moyen  visib_faible  visib_fort  visib_moyen  \n",
       "0            0             0             0           1            0  \n",
       "1            0             0             0           1            0  \n",
       "2            0             0             0           1            0  \n",
       "3            0             0             0           1            0  \n",
       "4            0             0             0           1            0  \n",
       "5            0             0             0           1            0  \n",
       "6            0             0             0           1            0  \n",
       "7            0             0             0           1            0  \n",
       "8            0             0             0           1            0  \n",
       "9            0             0             0           1            0  "
      ]
     },
     "execution_count": 5,
     "metadata": {},
     "output_type": "execute_result"
    }
   ],
   "source": [
    "dummies_col = ['month', 'hour', 'precip', 'visib']\n",
    "for each in dummies_col:\n",
    "     dummy = pd.get_dummies(fait[each])\n",
    "     fait = pd.concat([fait, dummy], axis=1)\n",
    "fait.drop(['month','hour', 'precip', 'visib'], axis=1, inplace=True)\n",
    "fait.head(10)"
   ]
  },
  {
   "cell_type": "code",
   "execution_count": 7,
   "metadata": {
    "collapsed": true
   },
   "outputs": [],
   "source": [
    "fait.to_csv(\"fait.csv\")"
   ]
  },
  {
   "cell_type": "code",
   "execution_count": 11,
   "metadata": {},
   "outputs": [
    {
     "name": "stdout",
     "output_type": "stream",
     "text": [
      "With logistic regression, we got 0.846352033852%\n"
     ]
    }
   ],
   "source": [
    "\n",
    "from sklearn.model_selection import train_test_split\n",
    "from sklearn.linear_model import LogisticRegression\n",
    "from sklearn import metrics\n",
    "\n",
    "faitX = fait.drop('isLate', axis=1)\n",
    "x_train, x_test, y_train, y_test = train_test_split\\\n",
    "(faitX, fait.isLate, test_size=0.33, random_state=0)\n",
    "lr = LogisticRegression()\n",
    "lr.fit(x_train, y_train)\n",
    "    \n",
    "\n",
    "y_pred = lr.predict(x_test)\n",
    "score = metrics.accuracy_score(y_test, y_pred)\n",
    "print(\"With logistic regression, we got \" + str(score) + \"%\")"
   ]
  },
  {
   "cell_type": "code",
   "execution_count": 94,
   "metadata": {},
   "outputs": [
    {
     "name": "stdout",
     "output_type": "stream",
     "text": [
      "With bayes, we got 0.7789550914550915%\n"
     ]
    }
   ],
   "source": [
    "from sklearn.naive_bayes import GaussianNB\n",
    "\n",
    "gnb = GaussianNB()\n",
    "gnb.fit(x_train, y_train)\n",
    "y_pred = gnb.predict(x_test)\n",
    "score = metrics.accuracy_score(y_test, y_pred)\n",
    "print(\"With bayes, we got \" + str(score) + \"%\")"
   ]
  },
  {
   "cell_type": "markdown",
   "metadata": {},
   "source": [
    "This ML is to predict if a cours is late. \n",
    "Features are precipitation, visibility month and hour. They are transfered in 0, 1, 2, three states.\n",
    "Logistic regression shows better quality."
   ]
  },
  {
   "cell_type": "code",
   "execution_count": 14,
   "metadata": {
    "collapsed": true
   },
   "outputs": [
    {
     "name": "stdout",
     "output_type": "stream",
     "text": [
      "Populating the interactive namespace from numpy and matplotlib\n"
     ]
    }
   ],
   "source": [
    "%pylab inline\n",
    "\n",
    "from sklearn.datasets import make_classification\n",
    "from sklearn.ensemble import RandomForestClassifier\n",
    "from sklearn.metrics import accuracy_score, make_scorer\n",
    "from sklearn.model_selection import cross_val_score, train_test_split, GridSearchCV"
   ]
  },
  {
   "cell_type": "code",
   "execution_count": 19,
   "metadata": {},
   "outputs": [
    {
     "name": "stdout",
     "output_type": "stream",
     "text": [
      "0.15195195195195196\n"
     ]
    },
    {
     "data": {
      "image/png": "[encoded data removed]",
      "text/plain": [
       "<Figure size 432x288 with 1 Axes>"
      ]
     },
     "metadata": {
      "needs_background": "light"
     },
     "output_type": "display_data"
    }
   ],
   "source": [
    "# Regardons la répartition de notre objectif\n",
    "\n",
    "faitX = fait.drop('isLate', axis=1)\n",
    "x_train, x_test, y_train, y_test = train_test_split\\\n",
    "(faitX, fait.isLate, test_size=0.25, random_state=0)\n",
    "print(float(y_train.sum()/len(y_train)))\n",
    "\n",
    "plt.hist(y_train)\n",
    "None"
   ]
  },
  {
   "cell_type": "code",
   "execution_count": 41,
   "metadata": {},
   "outputs": [
    {
     "name": "stdout",
     "output_type": "stream",
     "text": [
      "Training score 84.9%\n",
      "Test score     84.9%\n"
     ]
    }
   ],
   "source": [
    "# On essaie avec un arbre\n",
    "model = RandomForestClassifier(n_estimators=1)\n",
    "\n",
    "model.fit(x_train, y_train)\n",
    "print(f'Training score {accuracy_score(model.predict(x_train), y_train) * 100:.1f}%')\n",
    "\n",
    "print(f'Test score     {accuracy_score(model.predict(x_test), y_test) * 100:.1f}%')"
   ]
  },
  {
   "cell_type": "code",
   "execution_count": 43,
   "metadata": {
    "collapsed": true
   },
   "outputs": [],
   "source": [
    "# On définit une fonction que l'on va réutiliser pour scorer différents modèles\n",
    "\n",
    "def score_model(model):\n",
    "    \"\"\"Réalise la validation croisée d'un modèle sur le training set uniquement\n",
    "    puis affiche les résultats (moyenne et écart-type de la précision du modèle)\"\"\"\n",
    "    results = cross_val_score(model,\n",
    "                              x_train,\n",
    "                              y_train,\n",
    "                              scoring=make_scorer(accuracy_score),\n",
    "                              cv=3)\n",
    "    print(f'Moyenne : {results.mean() * 100:.1f}%, Ecart-Type : {results.std() * 100:.1f}%')"
   ]
  },
  {
   "cell_type": "code",
   "execution_count": 22,
   "metadata": {},
   "outputs": [
    {
     "name": "stdout",
     "output_type": "stream",
     "text": [
      "Moyenne : 84.8%, Ecart-Type : 0.0%\n",
      "CPU times: user 119 ms, sys: 14.3 ms, total: 133 ms\n",
      "Wall time: 132 ms\n"
     ]
    }
   ],
   "source": [
    "%%time\n",
    "\n",
    "# On réessaie le même modèle avec la validation croisée\n",
    "model = RandomForestClassifier(n_estimators=1)\n",
    "score_model(model)"
   ]
  },
  {
   "cell_type": "code",
   "execution_count": 29,
   "metadata": {},
   "outputs": [
    {
     "name": "stdout",
     "output_type": "stream",
     "text": [
      "Moyenne : 84.8%, Ecart-Type : 0.0%\n",
      "CPU times: user 614 ms, sys: 17.4 ms, total: 631 ms\n",
      "Wall time: 631 ms\n"
     ]
    }
   ],
   "source": [
    "%%time\n",
    "\n",
    "# 10...\n",
    "model = RandomForestClassifier(n_estimators=10)\n",
    "score_model(model)"
   ]
  },
  {
   "cell_type": "code",
   "execution_count": 30,
   "metadata": {},
   "outputs": [
    {
     "name": "stdout",
     "output_type": "stream",
     "text": [
      "Moyenne : 84.9%, Ecart-Type : 0.0%\n",
      "CPU times: user 17.2 s, sys: 1.17 s, total: 18.4 s\n",
      "Wall time: 18 s\n"
     ]
    }
   ],
   "source": [
    "%%time\n",
    "\n",
    "# 1000...\n",
    "model = RandomForestClassifier(n_estimators=1000, n_jobs=-1)\n",
    "score_model(model)"
   ]
  },
  {
   "cell_type": "code",
   "execution_count": 35,
   "metadata": {},
   "outputs": [
    {
     "name": "stdout",
     "output_type": "stream",
     "text": [
      "Meilleurs paramètres: {'max_depth': 5, 'n_estimators': 1000}\n",
      "Meilleur score      : 0.848506006006006\n",
      "CPU times: user 3min 41s, sys: 593 ms, total: 3min 41s\n",
      "Wall time: 3min 41s\n"
     ]
    }
   ],
   "source": [
    "%%time\n",
    "\n",
    "model = RandomForestClassifier()\n",
    "parameter_grid = {\n",
    "    'n_estimators': [1, 10, 100, 1000],\n",
    "    'max_depth'   : [2, 5, 10],\n",
    "}\n",
    "\n",
    "search = GridSearchCV(estimator=model, param_grid=parameter_grid, cv=3)\n",
    "\n",
    "search.fit(x_train, y_train)\n",
    "\n",
    "params = search.best_params_\n",
    "print(f'Meilleurs paramètres: {search.best_params_}')\n",
    "print(f'Meilleur score      : {search.best_score_}')"
   ]
  },
  {
   "cell_type": "code",
   "execution_count": 36,
   "metadata": {},
   "outputs": [
    {
     "name": "stdout",
     "output_type": "stream",
     "text": [
      "Score du modèle (précision) : 84.9%\n"
     ]
    }
   ],
   "source": [
    "# On a trouvé les meilleurs paramètres (parmi ceux cherchés...)\n",
    "# On va les utiliser pour entrainer le modèle sur tout le dataset\n",
    "# Puis on évalue le modèle obtenu sur le test set\n",
    "\n",
    "model = RandomForestClassifier(**params)\n",
    "model.fit(x_train, y_train)\n",
    "\n",
    "print(f'Score du modèle (précision) : {accuracy_score(model.predict(x_test), y_test) * 100:.1f}%')"
   ]
  },
  {
   "cell_type": "code",
   "execution_count": 81,
   "metadata": {},
   "outputs": [
    {
     "name": "stdout",
     "output_type": "stream",
     "text": [
      "0.15177927927927928\n",
      "late_time     8.985333\n",
      "use_time     59.200000\n",
      "prop          0.151792\n",
      "dtype: float64\n"
     ]
    },
    {
     "data": {
      "image/png": "[encoded data removed]",
      "text/plain": [
       "<Figure size 432x288 with 1 Axes>"
      ]
     },
     "metadata": {
      "needs_background": "light"
     },
     "output_type": "display_data"
    }
   ],
   "source": [
    "# Calcul du taux de retard par un an\n",
    "retard = histories.loc[histories['late_time'] != 0]\n",
    "print(float(retard.shape[0]/histories.shape[0]))\n",
    "\n",
    "# Taux de retard par un client\n",
    "agg = retard.groupby(['client_id']).size().to_frame(name='late_time')\n",
    "agg2 = histories.groupby(['client_id']).size().to_frame(name='counts')\n",
    "agg['use_time'] = agg2['counts']\n",
    "agg['prop'] = agg['late_time']/agg['use_time']\n",
    "\n",
    "# Calculate mean\n",
    "print(agg.mean(axis=0))\n",
    "#plt.scatter(agg['client_id'], agg['prop'])\n",
    "agg.drop(['use_time','late_time'], axis=1).plot(kind='line')\n",
    "plt.show()"
   ]
  },
  {
   "cell_type": "code",
   "execution_count": 82,
   "metadata": {},
   "outputs": [
    {
     "data": {
      "text/html": [
       "<div>\n",
       "<style scoped>\n",
       "    .dataframe tbody tr th:only-of-type {\n",
       "        vertical-align: middle;\n",
       "    }\n",
       "\n",
       "    .dataframe tbody tr th {\n",
       "        vertical-align: top;\n",
       "    }\n",
       "\n",
       "    .dataframe thead th {\n",
       "        text-align: right;\n",
       "    }\n",
       "</style>\n",
       "<table border=\"1\" class=\"dataframe\">\n",
       "  <thead>\n",
       "    <tr style=\"text-align: right;\">\n",
       "      <th></th>\n",
       "      <th>retard_times</th>\n",
       "      <th>visibility</th>\n",
       "      <th>precipitation</th>\n",
       "    </tr>\n",
       "  </thead>\n",
       "  <tbody>\n",
       "    <tr>\n",
       "      <th>retard_times</th>\n",
       "      <td>1.000000</td>\n",
       "      <td>-0.219690</td>\n",
       "      <td>0.560496</td>\n",
       "    </tr>\n",
       "    <tr>\n",
       "      <th>visibility</th>\n",
       "      <td>-0.219690</td>\n",
       "      <td>1.000000</td>\n",
       "      <td>-0.165959</td>\n",
       "    </tr>\n",
       "    <tr>\n",
       "      <th>precipitation</th>\n",
       "      <td>0.560496</td>\n",
       "      <td>-0.165959</td>\n",
       "      <td>1.000000</td>\n",
       "    </tr>\n",
       "  </tbody>\n",
       "</table>\n",
       "</div>"
      ],
      "text/plain": [
       "               retard_times  visibility  precipitation\n",
       "retard_times       1.000000   -0.219690       0.560496\n",
       "visibility        -0.219690    1.000000      -0.165959\n",
       "precipitation      0.560496   -0.165959       1.000000"
      ]
     },
     "execution_count": 82,
     "metadata": {},
     "output_type": "execute_result"
    }
   ],
   "source": [
    "agg = retard.groupby(['DATE']).size().to_frame(name='retard_times')\n",
    "agg.reset_index(inplace=True)\n",
    "agg['visibility'] = weather.groupby('DATE')['VISIBILITY_AVG_KM'].transform(lambda x: x)\n",
    "agg['precipitation'] = weather.groupby('DATE')['PRECIP_TOTAL_DAY_MM'].transform(lambda x: x)\n",
    "#agg.head(10)\n",
    "# Calcule les correlations entre 'retard times', 'visibility' et 'precipitation'\n",
    "agg.corr()"
   ]
  },
  {
   "cell_type": "code",
   "execution_count": 85,
   "metadata": {},
   "outputs": [
    {
     "data": {
      "text/html": [
       "<table class=\"simpletable\">\n",
       "<caption>OLS Regression Results</caption>\n",
       "<tr>\n",
       "  <th>Dep. Variable:</th>      <td>retard_times</td>   <th>  R-squared:         </th> <td>   0.590</td>\n",
       "</tr>\n",
       "<tr>\n",
       "  <th>Model:</th>                   <td>OLS</td>       <th>  Adj. R-squared:    </th> <td>   0.588</td>\n",
       "</tr>\n",
       "<tr>\n",
       "  <th>Method:</th>             <td>Least Squares</td>  <th>  F-statistic:       </th> <td>   254.9</td>\n",
       "</tr>\n",
       "<tr>\n",
       "  <th>Date:</th>             <td>Fri, 08 Feb 2019</td> <th>  Prob (F-statistic):</th> <td>2.73e-69</td>\n",
       "</tr>\n",
       "<tr>\n",
       "  <th>Time:</th>                 <td>12:08:37</td>     <th>  Log-Likelihood:    </th> <td> -2033.6</td>\n",
       "</tr>\n",
       "<tr>\n",
       "  <th>No. Observations:</th>      <td>   356</td>      <th>  AIC:               </th> <td>   4071.</td>\n",
       "</tr>\n",
       "<tr>\n",
       "  <th>Df Residuals:</th>          <td>   354</td>      <th>  BIC:               </th> <td>   4079.</td>\n",
       "</tr>\n",
       "<tr>\n",
       "  <th>Df Model:</th>              <td>     2</td>      <th>                     </th>     <td> </td>   \n",
       "</tr>\n",
       "<tr>\n",
       "  <th>Covariance Type:</th>      <td>nonrobust</td>    <th>                     </th>     <td> </td>   \n",
       "</tr>\n",
       "</table>\n",
       "<table class=\"simpletable\">\n",
       "<tr>\n",
       "        <td></td>           <th>coef</th>     <th>std err</th>      <th>t</th>      <th>P>|t|</th>  <th>[0.025</th>    <th>0.975]</th>  \n",
       "</tr>\n",
       "<tr>\n",
       "  <th>precipitation</th> <td>   10.0556</td> <td>    0.741</td> <td>   13.565</td> <td> 0.000</td> <td>    8.598</td> <td>   11.513</td>\n",
       "</tr>\n",
       "<tr>\n",
       "  <th>visibility</th>    <td>    4.8684</td> <td>    0.440</td> <td>   11.061</td> <td> 0.000</td> <td>    4.003</td> <td>    5.734</td>\n",
       "</tr>\n",
       "</table>\n",
       "<table class=\"simpletable\">\n",
       "<tr>\n",
       "  <th>Omnibus:</th>       <td>92.153</td> <th>  Durbin-Watson:     </th> <td>   1.684</td> \n",
       "</tr>\n",
       "<tr>\n",
       "  <th>Prob(Omnibus):</th> <td> 0.000</td> <th>  Jarque-Bera (JB):  </th> <td> 759.285</td> \n",
       "</tr>\n",
       "<tr>\n",
       "  <th>Skew:</th>          <td> 0.820</td> <th>  Prob(JB):          </th> <td>1.33e-165</td>\n",
       "</tr>\n",
       "<tr>\n",
       "  <th>Kurtosis:</th>      <td> 9.964</td> <th>  Cond. No.          </th> <td>    1.98</td> \n",
       "</tr>\n",
       "</table><br/><br/>Warnings:<br/>[1] Standard Errors assume that the covariance matrix of the errors is correctly specified."
      ],
      "text/plain": [
       "<class 'statsmodels.iolib.summary.Summary'>\n",
       "\"\"\"\n",
       "                            OLS Regression Results                            \n",
       "==============================================================================\n",
       "Dep. Variable:           retard_times   R-squared:                       0.590\n",
       "Model:                            OLS   Adj. R-squared:                  0.588\n",
       "Method:                 Least Squares   F-statistic:                     254.9\n",
       "Date:                Fri, 08 Feb 2019   Prob (F-statistic):           2.73e-69\n",
       "Time:                        12:08:37   Log-Likelihood:                -2033.6\n",
       "No. Observations:                 356   AIC:                             4071.\n",
       "Df Residuals:                     354   BIC:                             4079.\n",
       "Df Model:                           2                                         \n",
       "Covariance Type:            nonrobust                                         \n",
       "=================================================================================\n",
       "                    coef    std err          t      P>|t|      [0.025      0.975]\n",
       "---------------------------------------------------------------------------------\n",
       "precipitation    10.0556      0.741     13.565      0.000       8.598      11.513\n",
       "visibility        4.8684      0.440     11.061      0.000       4.003       5.734\n",
       "==============================================================================\n",
       "Omnibus:                       92.153   Durbin-Watson:                   1.684\n",
       "Prob(Omnibus):                  0.000   Jarque-Bera (JB):              759.285\n",
       "Skew:                           0.820   Prob(JB):                    1.33e-165\n",
       "Kurtosis:                       9.964   Cond. No.                         1.98\n",
       "==============================================================================\n",
       "\n",
       "Warnings:\n",
       "[1] Standard Errors assume that the covariance matrix of the errors is correctly specified.\n",
       "\"\"\""
      ]
     },
     "execution_count": 85,
     "metadata": {},
     "output_type": "execute_result"
    }
   ],
   "source": [
    "# Linear regression to predict the late model\n",
    "import statsmodels.api as sm\n",
    "\n",
    "X = agg[['precipitation', 'visibility']]\n",
    "y = agg['retard_times']\n",
    "model = sm.OLS(y, X).fit()\n",
    "predictions = model.predict(X)\n",
    "model.summary()\n",
    "\n",
    "# With linear regression, R-squared is just 59%."
   ]
  },
  {
   "cell_type": "code",
   "execution_count": 86,
   "metadata": {},
   "outputs": [
    {
     "data": {
      "text/plain": [
       "<matplotlib.collections.PathCollection at 0x11c58be80>"
      ]
     },
     "execution_count": 86,
     "metadata": {},
     "output_type": "execute_result"
    },
    {
     "data": {
      "image/png": "[encoded data removed]",
      "text/plain": [
       "<Figure size 432x288 with 1 Axes>"
      ]
     },
     "metadata": {
      "needs_background": "light"
     },
     "output_type": "display_data"
    }
   ],
   "source": [
    "# Try to classification\n",
    "plt.scatter(agg['precipitation'], agg['retard_times'])"
   ]
  },
  {
   "cell_type": "code",
   "execution_count": 87,
   "metadata": {},
   "outputs": [
    {
     "data": {
      "text/plain": [
       "<matplotlib.collections.PathCollection at 0x119b20780>"
      ]
     },
     "execution_count": 87,
     "metadata": {},
     "output_type": "execute_result"
    },
    {
     "data": {
      "image/png": "[encoded data removed]",
      "text/plain": [
       "<Figure size 432x288 with 1 Axes>"
      ]
     },
     "metadata": {
      "needs_background": "light"
     },
     "output_type": "display_data"
    }
   ],
   "source": [
    "plt.scatter(agg['visibility'], agg['retard_times'])"
   ]
  },
  {
   "cell_type": "code",
   "execution_count": 90,
   "metadata": {},
   "outputs": [
    {
     "name": "stdout",
     "output_type": "stream",
     "text": [
      "74.23364485981308\n"
     ]
    }
   ],
   "source": [
    "import numpy as np\n",
    "real_y = X_test['retard_times'].tolist()\n",
    "bias = 0\n",
    "for index,i in enumerate(real_y):\n",
    "    bias += np.abs(i - y[index])\n",
    "# Mean bias of daily late time \n",
    "print(bias/len(real_y))"
   ]
  },
  {
   "cell_type": "code",
   "execution_count": 77,
   "metadata": {
    "collapsed": true
   },
   "outputs": [],
   "source": [
    "from sklearn import svm, datasets\n",
    "from sklearn.model_selection import train_test_split\n",
    "import numpy as np\n",
    "\n",
    "random_state = np.random.RandomState(0)\n",
    "# Create a simple classifier\n",
    "classifier = svm.LinearSVC(random_state=random_state)\n",
    "classifier.fit(x_train, y_train)\n",
    "y_score = classifier.decision_function(x_test)"
   ]
  },
  {
   "cell_type": "code",
   "execution_count": 62,
   "metadata": {},
   "outputs": [
    {
     "name": "stdout",
     "output_type": "stream",
     "text": [
      "Average precision-recall score: 0.35\n"
     ]
    }
   ],
   "source": [
    "from sklearn.metrics import average_precision_score\n",
    "average_precision = average_precision_score(y_test, y_score)\n",
    "\n",
    "print('Average precision-recall score: {0:0.2f}'.format(\n",
    "      average_precision))"
   ]
  },
  {
   "cell_type": "code",
   "execution_count": 11,
   "metadata": {},
   "outputs": [],
   "source": [
    "import pandas as pd\n",
    "booking = pd.read_csv(\"bookings.csv\")\n"
   ]
  },
  {
   "cell_type": "code",
   "execution_count": 12,
   "metadata": {},
   "outputs": [
    {
     "data": {
      "text/html": [
       "<div>\n",
       "<style>\n",
       "    .dataframe thead tr:only-child th {\n",
       "        text-align: right;\n",
       "    }\n",
       "\n",
       "    .dataframe thead th {\n",
       "        text-align: left;\n",
       "    }\n",
       "\n",
       "    .dataframe tbody tr th {\n",
       "        vertical-align: top;\n",
       "    }\n",
       "</style>\n",
       "<table border=\"1\" class=\"dataframe\">\n",
       "  <thead>\n",
       "    <tr style=\"text-align: right;\">\n",
       "      <th></th>\n",
       "      <th>id</th>\n",
       "      <th>client_id</th>\n",
       "      <th>departure_id</th>\n",
       "      <th>arrival_id</th>\n",
       "      <th>dep_time</th>\n",
       "      <th>estimate_arr_time</th>\n",
       "      <th>price</th>\n",
       "      <th>DATE</th>\n",
       "      <th>precipitation</th>\n",
       "      <th>visibility</th>\n",
       "      <th>month</th>\n",
       "      <th>hour</th>\n",
       "    </tr>\n",
       "  </thead>\n",
       "  <tbody>\n",
       "    <tr>\n",
       "      <th>0</th>\n",
       "      <td>1</td>\n",
       "      <td>2219</td>\n",
       "      <td>92</td>\n",
       "      <td>16</td>\n",
       "      <td>2018-08-04 00:11:00</td>\n",
       "      <td>2018-08-04 00:57:00</td>\n",
       "      <td>8.28</td>\n",
       "      <td>2018-08-04</td>\n",
       "      <td>0.2</td>\n",
       "      <td>9.375</td>\n",
       "      <td>8</td>\n",
       "      <td>0</td>\n",
       "    </tr>\n",
       "    <tr>\n",
       "      <th>1</th>\n",
       "      <td>2</td>\n",
       "      <td>2701</td>\n",
       "      <td>139</td>\n",
       "      <td>62</td>\n",
       "      <td>2018-08-04 00:18:00</td>\n",
       "      <td>2018-08-04 00:23:00</td>\n",
       "      <td>2.00</td>\n",
       "      <td>2018-08-04</td>\n",
       "      <td>0.2</td>\n",
       "      <td>9.375</td>\n",
       "      <td>8</td>\n",
       "      <td>0</td>\n",
       "    </tr>\n",
       "    <tr>\n",
       "      <th>2</th>\n",
       "      <td>3</td>\n",
       "      <td>1947</td>\n",
       "      <td>2</td>\n",
       "      <td>36</td>\n",
       "      <td>2018-08-04 00:47:00</td>\n",
       "      <td>2018-08-04 01:33:00</td>\n",
       "      <td>4.74</td>\n",
       "      <td>2018-08-04</td>\n",
       "      <td>0.2</td>\n",
       "      <td>9.375</td>\n",
       "      <td>8</td>\n",
       "      <td>0</td>\n",
       "    </tr>\n",
       "    <tr>\n",
       "      <th>3</th>\n",
       "      <td>4</td>\n",
       "      <td>1389</td>\n",
       "      <td>125</td>\n",
       "      <td>35</td>\n",
       "      <td>2018-08-04 00:52:00</td>\n",
       "      <td>2018-08-04 01:36:00</td>\n",
       "      <td>21.95</td>\n",
       "      <td>2018-08-04</td>\n",
       "      <td>0.2</td>\n",
       "      <td>9.375</td>\n",
       "      <td>8</td>\n",
       "      <td>0</td>\n",
       "    </tr>\n",
       "    <tr>\n",
       "      <th>4</th>\n",
       "      <td>5</td>\n",
       "      <td>681</td>\n",
       "      <td>68</td>\n",
       "      <td>165</td>\n",
       "      <td>2018-08-04 00:01:00</td>\n",
       "      <td>2018-08-04 00:03:00</td>\n",
       "      <td>2.00</td>\n",
       "      <td>2018-08-04</td>\n",
       "      <td>0.2</td>\n",
       "      <td>9.375</td>\n",
       "      <td>8</td>\n",
       "      <td>0</td>\n",
       "    </tr>\n",
       "    <tr>\n",
       "      <th>5</th>\n",
       "      <td>6</td>\n",
       "      <td>2927</td>\n",
       "      <td>111</td>\n",
       "      <td>144</td>\n",
       "      <td>2018-08-04 00:13:00</td>\n",
       "      <td>2018-08-04 00:16:00</td>\n",
       "      <td>2.00</td>\n",
       "      <td>2018-08-04</td>\n",
       "      <td>0.2</td>\n",
       "      <td>9.375</td>\n",
       "      <td>8</td>\n",
       "      <td>0</td>\n",
       "    </tr>\n",
       "    <tr>\n",
       "      <th>6</th>\n",
       "      <td>7</td>\n",
       "      <td>2079</td>\n",
       "      <td>129</td>\n",
       "      <td>98</td>\n",
       "      <td>2018-08-04 00:00:00</td>\n",
       "      <td>2018-08-04 00:15:00</td>\n",
       "      <td>3.30</td>\n",
       "      <td>2018-08-04</td>\n",
       "      <td>0.2</td>\n",
       "      <td>9.375</td>\n",
       "      <td>8</td>\n",
       "      <td>0</td>\n",
       "    </tr>\n",
       "    <tr>\n",
       "      <th>7</th>\n",
       "      <td>8</td>\n",
       "      <td>1125</td>\n",
       "      <td>28</td>\n",
       "      <td>124</td>\n",
       "      <td>2018-08-04 01:40:00</td>\n",
       "      <td>2018-08-04 02:33:00</td>\n",
       "      <td>29.82</td>\n",
       "      <td>2018-08-04</td>\n",
       "      <td>0.2</td>\n",
       "      <td>9.375</td>\n",
       "      <td>8</td>\n",
       "      <td>1</td>\n",
       "    </tr>\n",
       "    <tr>\n",
       "      <th>8</th>\n",
       "      <td>9</td>\n",
       "      <td>526</td>\n",
       "      <td>63</td>\n",
       "      <td>131</td>\n",
       "      <td>2018-08-04 01:17:00</td>\n",
       "      <td>2018-08-04 02:10:00</td>\n",
       "      <td>23.07</td>\n",
       "      <td>2018-08-04</td>\n",
       "      <td>0.2</td>\n",
       "      <td>9.375</td>\n",
       "      <td>8</td>\n",
       "      <td>1</td>\n",
       "    </tr>\n",
       "    <tr>\n",
       "      <th>9</th>\n",
       "      <td>10</td>\n",
       "      <td>2968</td>\n",
       "      <td>2</td>\n",
       "      <td>99</td>\n",
       "      <td>2018-08-04 01:38:00</td>\n",
       "      <td>2018-08-04 02:07:00</td>\n",
       "      <td>6.69</td>\n",
       "      <td>2018-08-04</td>\n",
       "      <td>0.2</td>\n",
       "      <td>9.375</td>\n",
       "      <td>8</td>\n",
       "      <td>1</td>\n",
       "    </tr>\n",
       "  </tbody>\n",
       "</table>\n",
       "</div>"
      ],
      "text/plain": [
       "   id  client_id  departure_id  arrival_id             dep_time  \\\n",
       "0   1       2219            92          16  2018-08-04 00:11:00   \n",
       "1   2       2701           139          62  2018-08-04 00:18:00   \n",
       "2   3       1947             2          36  2018-08-04 00:47:00   \n",
       "3   4       1389           125          35  2018-08-04 00:52:00   \n",
       "4   5        681            68         165  2018-08-04 00:01:00   \n",
       "5   6       2927           111         144  2018-08-04 00:13:00   \n",
       "6   7       2079           129          98  2018-08-04 00:00:00   \n",
       "7   8       1125            28         124  2018-08-04 01:40:00   \n",
       "8   9        526            63         131  2018-08-04 01:17:00   \n",
       "9  10       2968             2          99  2018-08-04 01:38:00   \n",
       "\n",
       "     estimate_arr_time  price        DATE  precipitation  visibility  month  \\\n",
       "0  2018-08-04 00:57:00   8.28  2018-08-04            0.2       9.375      8   \n",
       "1  2018-08-04 00:23:00   2.00  2018-08-04            0.2       9.375      8   \n",
       "2  2018-08-04 01:33:00   4.74  2018-08-04            0.2       9.375      8   \n",
       "3  2018-08-04 01:36:00  21.95  2018-08-04            0.2       9.375      8   \n",
       "4  2018-08-04 00:03:00   2.00  2018-08-04            0.2       9.375      8   \n",
       "5  2018-08-04 00:16:00   2.00  2018-08-04            0.2       9.375      8   \n",
       "6  2018-08-04 00:15:00   3.30  2018-08-04            0.2       9.375      8   \n",
       "7  2018-08-04 02:33:00  29.82  2018-08-04            0.2       9.375      8   \n",
       "8  2018-08-04 02:10:00  23.07  2018-08-04            0.2       9.375      8   \n",
       "9  2018-08-04 02:07:00   6.69  2018-08-04            0.2       9.375      8   \n",
       "\n",
       "   hour  \n",
       "0     0  \n",
       "1     0  \n",
       "2     0  \n",
       "3     0  \n",
       "4     0  \n",
       "5     0  \n",
       "6     0  \n",
       "7     1  \n",
       "8     1  \n",
       "9     1  "
      ]
     },
     "execution_count": 12,
     "metadata": {},
     "output_type": "execute_result"
    }
   ],
   "source": [
    "weather = pd.read_csv(\"weather2018.csv\")\n",
    "booking['DATE'] = pd.to_datetime(booking['dep_time'], format = '%Y-%m-%d').dt.date\n",
    "weather['DATE'] = pd.to_datetime(weather['DATE'], format = '%Y-%m-%d').dt.date\n",
    "booking['precipitation'] = booking['DATE'].map(weather.set_index('DATE')['PRECIP_TOTAL_DAY_MM'])\n",
    "booking['visibility'] = booking['DATE'].map(weather.set_index('DATE')['VISIBILITY_AVG_KM'])\n",
    "booking['month'] = pd.to_datetime(booking['dep_time'], format = '%Y-%m-%d').dt.month\n",
    "booking['hour'] = pd.to_datetime(booking['dep_time'], format = '%Y-%m-%d').dt.hour\n",
    "booking.head(10)"
   ]
  },
  {
   "cell_type": "code",
   "execution_count": 13,
   "metadata": {
    "collapsed": true
   },
   "outputs": [],
   "source": [
    "predFait = booking.drop(['id','client_id', 'departure_id', 'arrival_id',\\\n",
    "                       'dep_time', 'estimate_arr_time', 'price'], axis=1)\n",
    "predFait.to_csv(\"FaitAPred.csv\")"
   ]
  },
  {
   "cell_type": "code",
   "execution_count": 1,
   "metadata": {},
   "outputs": [],
   "source": []
  },
  {
   "cell_type": "code",
   "execution_count": null,
   "metadata": {},
   "outputs": [],
   "source": []
  }
 ],
 "metadata": {
  "kernelspec": {
   "display_name": "Python 3",
   "language": "python",
   "name": "python3"
  },
  "language_info": {
   "codemirror_mode": {
    "name": "ipython",
    "version": 3
   },
   "file_extension": ".py",
   "mimetype": "text/x-python",
   "name": "python",
   "nbconvert_exporter": "python",
   "pygments_lexer": "ipython3",
   "version": "3.7.1"
  }
 },
 "nbformat": 4,
 "nbformat_minor": 2
}
